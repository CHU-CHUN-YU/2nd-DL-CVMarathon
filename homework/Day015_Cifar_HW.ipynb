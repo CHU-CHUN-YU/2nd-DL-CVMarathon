{
 "cells": [
  {
   "cell_type": "markdown",
   "metadata": {},
   "source": [
    "## 『本次練習內容』\n",
    "#### 運用這幾天所學觀念搭建一個CNN分類器"
   ]
  },
  {
   "cell_type": "markdown",
   "metadata": {},
   "source": [
    "## 『本次練習目的』\n",
    "  #### 熟悉CNN分類器搭建步驟與原理\n",
    "  #### 學員們可以嘗試不同搭法，如使用不同的Maxpooling層，用GlobalAveragePooling取代Flatten等等"
   ]
  },
  {
   "cell_type": "code",
   "execution_count": 1,
   "metadata": {},
   "outputs": [
    {
     "name": "stderr",
     "output_type": "stream",
     "text": [
      "Using TensorFlow backend.\n"
     ]
    }
   ],
   "source": [
    "from keras.models import Sequential\n",
    "from keras.layers import Convolution2D\n",
    "from keras.layers import MaxPooling2D\n",
    "from keras.layers import Flatten\n",
    "from keras.layers import Dense\n",
    "from keras.layers import Dropout\n",
    "from keras.layers import BatchNormalization\n",
    "from keras.datasets import cifar10\n",
    "import numpy as np\n",
    "import tensorflow as tf\n",
    "from sklearn.preprocessing import OneHotEncoder\n"
   ]
  },
  {
   "cell_type": "code",
   "execution_count": 2,
   "metadata": {},
   "outputs": [
    {
     "name": "stdout",
     "output_type": "stream",
     "text": [
      "(50000, 32, 32, 3)\n",
      "(50000, 1)\n",
      "(10000, 32, 32, 3)\n",
      "(10000, 1)\n"
     ]
    }
   ],
   "source": [
    "(x_train, y_train), (x_test, y_test) = cifar10.load_data()\n",
    "\n",
    "print(x_train.shape) #(50000, 32, 32, 3)\n",
    "print(y_train.shape) \n",
    "print(x_test.shape) #(50000, 32, 32, 3)\n",
    "print(y_test.shape) "
   ]
  },
  {
   "cell_type": "code",
   "execution_count": 4,
   "metadata": {
    "scrolled": false
   },
   "outputs": [
    {
     "data": {
      "text/plain": [
       "array([[[130.71074, 136.05614, 132.5538 ],\n",
       "        [130.14036, 135.44238, 131.85358],\n",
       "        [131.05044, 136.24616, 132.58144],\n",
       "        ...,\n",
       "        [131.05902, 136.307  , 132.44078],\n",
       "        [130.39308, 135.70848, 132.00036],\n",
       "        [130.174  , 135.4736 , 131.89246]],\n",
       "\n",
       "       [[130.0993 , 135.29484, 131.36412],\n",
       "        [129.3446 , 134.45914, 130.4656 ],\n",
       "        [130.2169 , 135.1767 , 131.10234],\n",
       "        ...,\n",
       "        [130.04254, 135.13862, 130.90018],\n",
       "        [129.33038, 134.55898, 130.49918],\n",
       "        [129.1568 , 134.38368, 130.45104]],\n",
       "\n",
       "       [[129.72472, 134.64818, 130.2514 ],\n",
       "        [128.71662, 133.49748, 129.01922],\n",
       "        [129.47348, 134.05546, 129.47586],\n",
       "        ...,\n",
       "        [129.21066, 133.95824, 129.29398],\n",
       "        [128.59094, 133.54152, 129.06528],\n",
       "        [128.59134, 133.55772, 129.22356]],\n",
       "\n",
       "       ...,\n",
       "\n",
       "       [[126.55372, 125.9533 , 114.1421 ],\n",
       "        [124.58844, 123.7335 , 111.77894],\n",
       "        [123.92508, 122.8011 , 110.73544],\n",
       "        ...,\n",
       "        [124.24036, 123.00342, 110.87088],\n",
       "        [124.68902, 123.7463 , 111.75116],\n",
       "        [125.51674, 124.86008, 113.10554]],\n",
       "\n",
       "       [[127.0681 , 126.37616, 114.64896],\n",
       "        [125.46902, 124.58318, 112.6934 ],\n",
       "        [125.28488, 124.1869 , 112.16812],\n",
       "        ...,\n",
       "        [125.49252, 124.33758, 112.25642],\n",
       "        [125.58606, 124.64844, 112.71842],\n",
       "        [125.9967 , 125.2858 , 113.60626]],\n",
       "\n",
       "       [[127.73474, 126.94778, 115.44564],\n",
       "        [126.59796, 125.65326, 113.9712 ],\n",
       "        [126.86516, 125.75678, 113.9406 ],\n",
       "        ...,\n",
       "        [126.77836, 125.69708, 113.83058],\n",
       "        [126.56496, 125.61742, 113.90624],\n",
       "        [126.63908, 125.8503 , 114.38186]]])"
      ]
     },
     "execution_count": 4,
     "metadata": {},
     "output_type": "execute_result"
    }
   ],
   "source": [
    "np.mean(x_train,axis=(0))"
   ]
  },
  {
   "cell_type": "code",
   "execution_count": 15,
   "metadata": {
    "scrolled": true
   },
   "outputs": [
    {
     "data": {
      "text/plain": [
       "array([[126.83261937, 128.18296813, 119.07407688],\n",
       "       [124.75662562, 125.67388125, 116.54274875],\n",
       "       [124.40423875, 124.74341   , 115.60854375],\n",
       "       [124.1411475 , 123.91452313, 114.75189438],\n",
       "       [124.10594875, 123.32259312, 114.11807375],\n",
       "       [124.3007475 , 122.94016063, 113.7183175 ],\n",
       "       [124.59202   , 122.663455  , 113.45950688],\n",
       "       [124.89568313, 122.45004062, 113.27039312],\n",
       "       [125.23976437, 122.28028125, 113.11450563],\n",
       "       [125.58722687, 122.13966937, 113.00094938],\n",
       "       [125.89378437, 122.04229688, 112.9426725 ],\n",
       "       [126.06106875, 121.88908125, 112.872215  ],\n",
       "       [126.14097437, 121.7128175 , 112.752225  ],\n",
       "       [126.22666375, 121.58175375, 112.67661437],\n",
       "       [126.22117938, 121.43404437, 112.57928   ],\n",
       "       [126.16845688, 121.31369063, 112.48007   ],\n",
       "       [126.17077187, 121.32533688, 112.44411062],\n",
       "       [126.2099275 , 121.39754188, 112.49705687],\n",
       "       [126.21394625, 121.53286687, 112.60722375],\n",
       "       [126.162265  , 121.71260562, 112.73778187],\n",
       "       [125.97989375, 121.83381625, 112.79031188],\n",
       "       [125.78434062, 121.96669812, 112.84698125],\n",
       "       [125.58376   , 122.14055063, 112.97590875],\n",
       "       [125.33653562, 122.33277125, 113.15043062],\n",
       "       [125.01001625, 122.48176437, 113.29830188],\n",
       "       [124.71792563, 122.7010475 , 113.52627313],\n",
       "       [124.38841   , 122.90473875, 113.74455312],\n",
       "       [124.12701625, 123.20566437, 114.05843687],\n",
       "       [124.08569187, 123.74627625, 114.60192   ],\n",
       "       [124.225765  , 124.50694062, 115.33200312],\n",
       "       [124.60620187, 125.4359225 , 116.28441562],\n",
       "       [125.65076063, 126.90340375, 117.83446563]])"
      ]
     },
     "execution_count": 15,
     "metadata": {},
     "output_type": "execute_result"
    }
   ],
   "source": [
    "np.mean(x_train,axis=(0,1))"
   ]
  },
  {
   "cell_type": "code",
   "execution_count": 16,
   "metadata": {
    "scrolled": true
   },
   "outputs": [
    {
     "data": {
      "text/plain": [
       "array([125.30691805, 122.95039414, 113.86538318])"
      ]
     },
     "execution_count": 16,
     "metadata": {},
     "output_type": "execute_result"
    }
   ],
   "source": [
    "np.mean(x_train,axis=(0,1,2))"
   ]
  },
  {
   "cell_type": "code",
   "execution_count": 17,
   "metadata": {},
   "outputs": [
    {
     "data": {
      "text/plain": [
       "120.70756512369792"
      ]
     },
     "execution_count": 17,
     "metadata": {},
     "output_type": "execute_result"
    }
   ],
   "source": [
    "np.mean(x_train,axis=(0,1,2,3))"
   ]
  },
  {
   "cell_type": "code",
   "execution_count": 3,
   "metadata": {},
   "outputs": [],
   "source": [
    "\n",
    "\n",
    "## Normalize Data\n",
    "def normalize(X_train,X_test):\n",
    "        mean = np.mean(X_train,axis=(0,1,2,3))\n",
    "        std = np.std(X_train, axis=(0, 1, 2, 3))\n",
    "        X_train = (X_train-mean)/(std+1e-7)\n",
    "        X_test = (X_test-mean)/(std+1e-7) \n",
    "        return X_train, X_test,mean,std\n",
    "    \n",
    "    \n",
    "## Normalize Training and Testset    \n",
    "x_train, x_test,mean_train,std_train = normalize(x_train, x_test) "
   ]
  },
  {
   "cell_type": "code",
   "execution_count": 4,
   "metadata": {
    "scrolled": false
   },
   "outputs": [
    {
     "name": "stderr",
     "output_type": "stream",
     "text": [
      "C:\\ProgramData\\Anaconda3\\lib\\site-packages\\sklearn\\preprocessing\\_encoders.py:415: FutureWarning: The handling of integer data will change in version 0.22. Currently, the categories are determined based on the range [0, max(values)], while in the future they will be determined based on the unique values.\n",
      "If you want the future behaviour and silence this warning, you can specify \"categories='auto'\".\n",
      "In case you used a LabelEncoder before this OneHotEncoder to convert the categories to integers, then you can now use the OneHotEncoder directly.\n",
      "  warnings.warn(msg, FutureWarning)\n"
     ]
    }
   ],
   "source": [
    "## OneHot Label 由(None, 1)-(None, 10)\n",
    "## ex. label=2,變成[0,0,1,0,0,0,0,0,0,0]\n",
    "one_hot=OneHotEncoder()\n",
    "\n",
    "y_train=one_hot.fit_transform(y_train).toarray()\n",
    "y_test=one_hot.transform(y_test).toarray()"
   ]
  },
  {
   "cell_type": "code",
   "execution_count": 19,
   "metadata": {
    "scrolled": true
   },
   "outputs": [
    {
     "name": "stdout",
     "output_type": "stream",
     "text": [
      "[[0. 0. 0. ... 0. 0. 0.]\n",
      " [0. 0. 0. ... 0. 0. 1.]\n",
      " [0. 0. 0. ... 0. 0. 1.]\n",
      " ...\n",
      " [0. 0. 0. ... 0. 0. 1.]\n",
      " [0. 1. 0. ... 0. 0. 0.]\n",
      " [0. 1. 0. ... 0. 0. 0.]]\n"
     ]
    }
   ],
   "source": [
    "print(y_train)"
   ]
  },
  {
   "cell_type": "code",
   "execution_count": 5,
   "metadata": {},
   "outputs": [
    {
     "name": "stdout",
     "output_type": "stream",
     "text": [
      "WARNING:tensorflow:From C:\\ProgramData\\Anaconda3\\lib\\site-packages\\tensorflow\\python\\framework\\op_def_library.py:263: colocate_with (from tensorflow.python.framework.ops) is deprecated and will be removed in a future version.\n",
      "Instructions for updating:\n",
      "Colocations handled automatically by placer.\n"
     ]
    },
    {
     "name": "stderr",
     "output_type": "stream",
     "text": [
      "C:\\ProgramData\\Anaconda3\\lib\\site-packages\\ipykernel_launcher.py:4: UserWarning: Update your `Conv2D` call to the Keras 2 API: `Conv2D(32, (3, 3), input_shape=(32, 32, 3..., activation=\"relu\")`\n",
      "  after removing the cwd from sys.path.\n",
      "C:\\ProgramData\\Anaconda3\\lib\\site-packages\\ipykernel_launcher.py:9: UserWarning: Update your `Conv2D` call to the Keras 2 API: `Conv2D(64, (3, 3), input_shape=(32, 32, 3..., activation=\"relu\")`\n",
      "  if __name__ == '__main__':\n",
      "C:\\ProgramData\\Anaconda3\\lib\\site-packages\\ipykernel_launcher.py:24: UserWarning: Update your `Dense` call to the Keras 2 API: `Dense(activation=\"softmax\", units=10)`\n"
     ]
    },
    {
     "name": "stdout",
     "output_type": "stream",
     "text": [
      "WARNING:tensorflow:From C:\\ProgramData\\Anaconda3\\lib\\site-packages\\tensorflow\\python\\ops\\math_ops.py:3066: to_int32 (from tensorflow.python.ops.math_ops) is deprecated and will be removed in a future version.\n",
      "Instructions for updating:\n",
      "Use tf.cast instead.\n",
      "Epoch 1/5\n",
      "50000/50000 [==============================] - 865s 17ms/step - loss: 1.4405 - acc: 0.4937\n",
      "Epoch 2/5\n",
      "50000/50000 [==============================] - 746s 15ms/step - loss: 0.9899 - acc: 0.6504\n",
      "Epoch 3/5\n",
      "50000/50000 [==============================] - 728s 15ms/step - loss: 0.8166 - acc: 0.7137\n",
      "Epoch 4/5\n",
      "50000/50000 [==============================] - 767s 15ms/step - loss: 0.6844 - acc: 0.7606\n",
      "Epoch 5/5\n",
      "50000/50000 [==============================] - 765s 15ms/step - loss: 0.5617 - acc: 0.8027\n"
     ]
    },
    {
     "data": {
      "text/plain": [
       "<keras.callbacks.History at 0x25da060f3c8>"
      ]
     },
     "execution_count": 5,
     "metadata": {},
     "output_type": "execute_result"
    }
   ],
   "source": [
    "\n",
    "classifier=Sequential()\n",
    "\n",
    "#卷積組合\n",
    "classifier.add(Convolution2D(32,3,3,input_shape=(32,32,3),activation='relu'))#32,3,3,input_shape=(32,32,3),activation='relu''\n",
    "classifier.add(BatchNormalization())\n",
    "\n",
    "\n",
    "#卷積組合\n",
    "classifier.add(Convolution2D(64,3,3,input_shape=(32,32,3),activation='relu'))\n",
    "classifier.add(BatchNormalization())\n",
    "\n",
    "'''自己決定MaxPooling2D放在哪裡'''\n",
    "classifier.add(MaxPooling2D(pool_size=(2,2)))\n",
    "\n",
    "\n",
    "#flatten\n",
    "classifier.add(Flatten())\n",
    "\n",
    "#FC\n",
    "classifier.add(Dense(64,activation='relu')) #output_dim=100,activation=relu\n",
    "\n",
    "#輸出 最後一層是輸出層，也就是要輸出十種0~9的分類值，一般我們都會使用softmax作為分類模型輸出層的啟動函數。\n",
    "\n",
    "classifier.add(Dense(output_dim=10,activation='softmax'))\n",
    "\n",
    "#超過兩個就要選categorical_crossentrophy\n",
    "classifier.compile(optimizer = 'adam', loss = 'categorical_crossentropy', metrics = ['accuracy'])\n",
    "classifier.fit(x_train,y_train,batch_size=100,epochs=5)"
   ]
  },
  {
   "cell_type": "markdown",
   "metadata": {},
   "source": [
    "## 預測新圖片，輸入影像前處理要與訓練時相同\n",
    "#### ((X-mean)/(std+1e-7) ):這裡的mean跟std是訓練集的\n",
    "## 維度如下方示範"
   ]
  },
  {
   "cell_type": "code",
   "execution_count": 6,
   "metadata": {},
   "outputs": [
    {
     "data": {
      "text/plain": [
       "array([[9.6485041e-02, 1.6416560e-06, 6.6288776e-06, 3.2779095e-01,\n",
       "        2.5224859e-01, 9.0851836e-06, 2.2456932e-04, 2.4545029e-08,\n",
       "        3.2321939e-01, 1.4088622e-05]], dtype=float32)"
      ]
     },
     "execution_count": 6,
     "metadata": {},
     "output_type": "execute_result"
    }
   ],
   "source": [
    "input_example=(np.zeros(shape=(1,32,32,3))-mean_train)/(std_train+1e-7) \n",
    "classifier.predict(input_example)"
   ]
  }
 ],
 "metadata": {
  "kernelspec": {
   "display_name": "Python 3",
   "language": "python",
   "name": "python3"
  },
  "language_info": {
   "codemirror_mode": {
    "name": "ipython",
    "version": 3
   },
   "file_extension": ".py",
   "mimetype": "text/x-python",
   "name": "python",
   "nbconvert_exporter": "python",
   "pygments_lexer": "ipython3",
   "version": "3.7.4"
  }
 },
 "nbformat": 4,
 "nbformat_minor": 2
}
